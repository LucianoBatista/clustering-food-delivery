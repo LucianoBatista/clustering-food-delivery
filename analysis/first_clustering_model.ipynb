{
 "cells": [
  {
   "cell_type": "code",
   "execution_count": null,
   "metadata": {},
   "outputs": [],
   "source": [
    "import matplotlib as mpl\n",
    "import matplotlib.pyplot as plt\n",
    "import missingno as msno\n",
    "import numpy as np\n",
    "import pandas as pd\n",
    "import seaborn as sns\n",
    "from sklearn import cluster, decomposition, metrics\n",
    "\n",
    "mpl.rcParams[\"figure.figsize\"] = (16, 8)\n",
    "mpl.rcParams[\"figure.dpi\"] = 160"
   ]
  },
  {
   "cell_type": "markdown",
   "metadata": {
    "collapsed": false,
    "pycharm": {
     "name": "#%% md\n"
    }
   },
   "source": [
    "Here we'll perform a first clustering model, folowing the RFM methodology. So, this notebook will perform some eda on those variables and after run a K-means algorithm to build our clusters."
   ]
  },
  {
   "cell_type": "code",
   "execution_count": null,
   "metadata": {
    "pycharm": {
     "name": "#%%\n"
    }
   },
   "outputs": [],
   "source": [
    "orders_df = pd.read_csv(\"../data/orders.csv\", sep=\";\")\n",
    "orders_dtypes = pd.read_csv(\"../data/orders-dtype.csv\")\n",
    "orders_dtypes.set_index([\"features\"], inplace=True)\n",
    "dtypes_to_read = orders_dtypes.to_dict()[\"dtypes\"]\n",
    "\n",
    "# dtypes orders fixed\n",
    "orders_df = orders_df.astype(dtypes_to_read)"
   ]
  },
  {
   "cell_type": "code",
   "execution_count": null,
   "metadata": {
    "pycharm": {
     "name": "#%%\n"
    }
   },
   "outputs": [],
   "source": [
    "# variables to use\n",
    "orders_rfm_df = orders_df[\n",
    "    [\"delivery_fee\", \"total_amount\", \"subsidy_amount\", \"lag_last_order\", \"account_id\"]\n",
    "]"
   ]
  },
  {
   "cell_type": "code",
   "execution_count": null,
   "metadata": {
    "pycharm": {
     "name": "#%%\n"
    }
   },
   "outputs": [],
   "source": [
    "# lets look if our data have missings\n",
    "orders_rfm_df.isnull().sum()"
   ]
  },
  {
   "cell_type": "code",
   "execution_count": null,
   "metadata": {
    "pycharm": {
     "name": "#%%\n"
    }
   },
   "outputs": [],
   "source": [
    "# curiously the number of less than 0 on subsidy amount is the same\n",
    "orders_rfm_df[orders_rfm_df[\"subsidy_amount\"] < 0].shape"
   ]
  },
  {
   "cell_type": "code",
   "execution_count": null,
   "metadata": {
    "pycharm": {
     "name": "#%%\n"
    }
   },
   "outputs": [],
   "source": [
    "# as we know that this subsidy_amount needs to be positive, and we doesn't have\n",
    "# those accounts, let's drop those values and look if our missings desapeear\n",
    "orders_rfm_pos_df = orders_rfm_df[orders_rfm_df[\"subsidy_amount\"] >= 0].copy()\n",
    "orders_rfm_pos_df.isnull().sum()"
   ]
  },
  {
   "cell_type": "code",
   "execution_count": null,
   "metadata": {
    "pycharm": {
     "name": "#%%\n"
    }
   },
   "outputs": [],
   "source": [
    "# Look, account_id now doesn't have missings\n",
    "orders_rfm_pos_df[orders_rfm_df[\"lag_last_order\"].isnull()]"
   ]
  },
  {
   "cell_type": "code",
   "execution_count": null,
   "metadata": {
    "pycharm": {
     "name": "#%%\n"
    }
   },
   "outputs": [],
   "source": [
    "orders_rfm_pos_df.describe(\n",
    "    percentiles=[0.1, 0.2, 0.3, 0.4, 0.5, 0.6, 0.7, 0.8, 0.9, 0.99]\n",
    ")"
   ]
  },
  {
   "cell_type": "code",
   "execution_count": null,
   "metadata": {
    "pycharm": {
     "name": "#%%\n"
    }
   },
   "outputs": [],
   "source": [
    "# looking at the lag_last_order missings seems that we have values coehrent,\n",
    "# and those percentiles also are looking fine.\n",
    "# but, we're seeing that we have a max value in all of our variables\n",
    "# let's remove the max value observation for all variables\n",
    "orders_rfm_pos_wo_max = orders_rfm_pos_df[\n",
    "    (\n",
    "        (\n",
    "            orders_rfm_pos_df[\"subsidy_amount\"]\n",
    "            < orders_rfm_pos_df[\"subsidy_amount\"].max()\n",
    "        )\n",
    "        & (orders_rfm_pos_df[\"total_amount\"] < 140000)\n",
    "        & (  # this value was obtained from the boxplot\n",
    "            orders_rfm_pos_df[\"lag_last_order\"]\n",
    "            < orders_rfm_pos_df[\"lag_last_order\"].max()\n",
    "        )\n",
    "        & (orders_rfm_pos_df[\"delivery_fee\"] >= 0)\n",
    "    )\n",
    "].copy()\n",
    "\n",
    "orders_rfm_pos_wo_max.describe(\n",
    "    percentiles=[0.1, 0.2, 0.3, 0.4, 0.5, 0.6, 0.7, 0.8, 0.9, 0.99]\n",
    ")"
   ]
  },
  {
   "cell_type": "code",
   "execution_count": null,
   "metadata": {
    "pycharm": {
     "name": "#%%\n"
    }
   },
   "outputs": [],
   "source": [
    "# plotting all boxplots\n",
    "columns_to_plot = orders_rfm_pos_wo_max.columns\n",
    "for columns in columns_to_plot:\n",
    "    if columns != \"account_id\":\n",
    "        _ = sns.boxplot(orders_rfm_pos_wo_max[columns])\n",
    "        plt.show()"
   ]
  },
  {
   "cell_type": "code",
   "execution_count": null,
   "metadata": {
    "pycharm": {
     "name": "#%%\n"
    }
   },
   "outputs": [],
   "source": [
    "# lets build our new variable total paid (total_amount + subsidy_amount)\n",
    "orders_rfm_pos_wo_max.loc[:, \"total_paid\"] = (\n",
    "    orders_rfm_pos_wo_max[\"total_amount\"] + orders_rfm_pos_wo_max[\"subsidy_amount\"]\n",
    ")\n",
    "orders_rfm_pos_wo_max"
   ]
  },
  {
   "cell_type": "code",
   "execution_count": null,
   "metadata": {
    "pycharm": {
     "name": "#%%\n"
    }
   },
   "outputs": [],
   "source": [
    "orders_cluster_rfm_df = orders_rfm_pos_wo_max.groupby(\"account_id\").agg(\n",
    "    [np.mean, np.size]\n",
    ")\n",
    "orders_cluster_rfm_df"
   ]
  },
  {
   "cell_type": "code",
   "execution_count": null,
   "metadata": {
    "pycharm": {
     "name": "#%%\n"
    }
   },
   "outputs": [],
   "source": [
    "orders_cluster_to_use = orders_cluster_rfm_df.loc[\n",
    "    :,\n",
    "    [\n",
    "        (\"delivery_fee\", \"mean\"),\n",
    "        (\"total_amount\", \"mean\"),\n",
    "        (\"subsidy_amount\", \"mean\"),\n",
    "        (\"lag_last_order\", \"mean\"),\n",
    "        (\"total_paid\", \"mean\"),\n",
    "        (\"total_paid\", \"size\"),\n",
    "    ],\n",
    "]\n",
    "orders_cluster_to_use"
   ]
  },
  {
   "cell_type": "code",
   "execution_count": null,
   "metadata": {
    "pycharm": {
     "name": "#%%\n"
    }
   },
   "outputs": [],
   "source": [
    "orders_cluster_to_use_df = orders_cluster_to_use.reset_index()\n",
    "orders_cluster_to_use_df"
   ]
  },
  {
   "cell_type": "code",
   "execution_count": null,
   "metadata": {
    "pycharm": {
     "name": "#%%\n"
    }
   },
   "outputs": [],
   "source": [
    "orders_de_mean = orders_cluster_to_use_df.loc[:, (\"delivery_fee\", \"mean\")]\n",
    "orders_ta_mean = orders_cluster_to_use_df.loc[:, (\"total_amount\", \"mean\")]\n",
    "orders_sa_mean = orders_cluster_to_use_df.loc[:, (\"subsidy_amount\", \"mean\")]\n",
    "orders_llo_mean = orders_cluster_to_use_df.loc[:, (\"lag_last_order\", \"mean\")]\n",
    "orders_tp_mean = orders_cluster_to_use_df.loc[:, (\"total_paid\", \"mean\")]\n",
    "orders_size = orders_cluster_to_use_df.loc[:, (\"total_paid\", \"size\")]\n",
    "\n",
    "orders_to_cluster = pd.DataFrame(\n",
    "    {\n",
    "        \"delivery_fee_mean\": orders_de_mean,\n",
    "        \"total_amount_mean\": orders_ta_mean,\n",
    "        \"subsidy_amount_mean\": orders_sa_mean,\n",
    "        \"lag_last_order_mean\": orders_llo_mean,\n",
    "        \"total_paid_mean\": orders_tp_mean,\n",
    "        \"orders_qt\": orders_size,\n",
    "    }\n",
    ")\n",
    "\n",
    "orders_to_cluster"
   ]
  },
  {
   "cell_type": "code",
   "execution_count": null,
   "metadata": {
    "pycharm": {
     "name": "#%%\n"
    }
   },
   "outputs": [],
   "source": [
    "# let's see how our variables are correlated using a scatter plot\n",
    "_ = sns.pairplot(orders_to_cluster)"
   ]
  },
  {
   "cell_type": "code",
   "execution_count": null,
   "metadata": {
    "pycharm": {
     "name": "#%%\n"
    }
   },
   "outputs": [],
   "source": [
    "# now with a log transformed variables\n",
    "orders_to_cluster_log = orders_to_cluster.apply(lambda x: np.log(x + 1))\n",
    "_ = sns.pairplot(orders_to_cluster_log)"
   ]
  },
  {
   "cell_type": "code",
   "execution_count": null,
   "metadata": {
    "pycharm": {
     "name": "#%%\n"
    }
   },
   "outputs": [],
   "source": [
    "# looking at the correlation\n",
    "corr = orders_to_cluster_log.corr()\n",
    "corr"
   ]
  },
  {
   "cell_type": "code",
   "execution_count": null,
   "metadata": {
    "pycharm": {
     "name": "#%%\n"
    }
   },
   "outputs": [],
   "source": [
    "# looking at those missings\n",
    "msno.matrix(orders_to_cluster_log)"
   ]
  },
  {
   "cell_type": "code",
   "execution_count": null,
   "metadata": {
    "pycharm": {
     "name": "#%%\n"
    }
   },
   "outputs": [],
   "source": [
    "# as our missings are on the same place, let's drop\n",
    "orders_to_cluster_log.dropna(axis=0, inplace=True)\n",
    "msno.matrix(orders_to_cluster_log)"
   ]
  },
  {
   "cell_type": "markdown",
   "metadata": {
    "collapsed": false,
    "pycharm": {
     "name": "#%% md\n"
    }
   },
   "source": [
    "# PCA"
   ]
  },
  {
   "cell_type": "code",
   "execution_count": null,
   "metadata": {
    "pycharm": {
     "name": "#%%\n"
    }
   },
   "outputs": [],
   "source": [
    "pca = decomposition.PCA(n_components=2)\n",
    "orders_to_cluster_components = pca.fit_transform(orders_to_cluster_log)\n",
    "orders_to_cluster_components_df = pd.DataFrame(\n",
    "    orders_to_cluster_components, columns=[\"pc1\", \"pc2\"]\n",
    ")\n",
    "orders_to_cluster_components_df"
   ]
  },
  {
   "cell_type": "markdown",
   "metadata": {
    "collapsed": false,
    "pycharm": {
     "name": "#%% md\n"
    }
   },
   "source": [
    "# Clustering with k-means"
   ]
  },
  {
   "cell_type": "code",
   "execution_count": null,
   "metadata": {
    "pycharm": {
     "name": "#%%\n"
    }
   },
   "outputs": [],
   "source": [
    "clusters = [2, 3, 4, 5, 6, 7, 8, 9, 10]\n",
    "\n",
    "for n_cluster in clusters:\n",
    "    cluster_kmeans = cluster.KMeans(n_clusters=n_cluster).fit(orders_to_cluster_log)\n",
    "    preds = cluster_kmeans.predict(orders_to_cluster_log)\n",
    "    centers = cluster_kmeans.cluster_centers_\n",
    "    score = metrics.silhouette_score(orders_to_cluster_log, preds, metric=\"euclidean\")\n",
    "    print(\"For n cluster: {}. The avg silhouette_score is {}\".format(n_cluster, score))"
   ]
  },
  {
   "cell_type": "code",
   "execution_count": null,
   "metadata": {
    "pycharm": {
     "name": "#%%\n"
    }
   },
   "outputs": [],
   "source": [
    "# sems that 6 clusters are interesting\n",
    "clusters = cluster.KMeans(n_clusters=6).fit(orders_to_cluster_log)\n",
    "preds = clusters.predict(orders_to_cluster_log)\n",
    "preds"
   ]
  },
  {
   "cell_type": "code",
   "execution_count": null,
   "metadata": {
    "pycharm": {
     "name": "#%%\n"
    }
   },
   "outputs": [],
   "source": [
    "# bring pred clusters to our PCA analysis\n",
    "orders_to_cluster_components_df[\"clusters\"] = preds\n",
    "orders_to_cluster_components_df"
   ]
  },
  {
   "cell_type": "code",
   "execution_count": null,
   "metadata": {
    "pycharm": {
     "name": "#%%\n"
    }
   },
   "outputs": [],
   "source": [
    "_ = sns.scatterplot(\n",
    "    x=\"pc1\",\n",
    "    y=\"pc2\",\n",
    "    data=orders_to_cluster_components_df,\n",
    "    hue=\"clusters\",\n",
    "    palette=sns.color_palette(\"tab10\", 6),\n",
    ")\n",
    "plt.show()"
   ]
  },
  {
   "cell_type": "code",
   "execution_count": null,
   "metadata": {
    "pycharm": {
     "name": "#%%\n"
    }
   },
   "outputs": [],
   "source": [
    "# copied from kaggle\n",
    "def pca_results(good_data, pca):\n",
    "    \"\"\"\n",
    "    Create a DataFrame of the PCA results\n",
    "    Includes dimension feature weights and explained variance\n",
    "    Visualizes the PCA results\n",
    "    \"\"\"\n",
    "\n",
    "    # Dimension indexing\n",
    "    dimensions = [\"Dimension {}\".format(i) for i in range(1, len(pca.components_) + 1)]\n",
    "\n",
    "    # PCA components\n",
    "    components = pd.DataFrame(np.round(pca.components_, 4), columns=good_data.keys())\n",
    "    components.index = dimensions\n",
    "\n",
    "    # PCA explained variance\n",
    "    ratios = pca.explained_variance_ratio_.reshape(len(pca.components_), 1)\n",
    "    variance_ratios = pd.DataFrame(np.round(ratios, 4), columns=[\"Explained Variance\"])\n",
    "    variance_ratios.index = dimensions\n",
    "\n",
    "    # Create a bar plot visualization\n",
    "    fig, ax = plt.subplots(figsize=(14, 8))\n",
    "\n",
    "    # Plot the feature weights as a function of the components\n",
    "    components.plot(ax=ax, kind=\"bar\")\n",
    "    ax.set_ylabel(\"Feature Weights\")\n",
    "    ax.set_xticklabels(dimensions, rotation=0)\n",
    "\n",
    "    # Display the explained variance ratios\n",
    "    for i, ev in enumerate(pca.explained_variance_ratio_):\n",
    "        ax.text(\n",
    "            i - 0.40,\n",
    "            ax.get_ylim()[1] + 0.05,\n",
    "            \"Explained Variance\\n          %.4f\" % (ev),\n",
    "        )\n",
    "\n",
    "    # Return a concatenated DataFrame\n",
    "    return pd.concat([variance_ratios, components], axis=1)"
   ]
  },
  {
   "cell_type": "code",
   "execution_count": null,
   "metadata": {
    "pycharm": {
     "name": "#%%\n"
    }
   },
   "outputs": [],
   "source": [
    "pca_results(orders_to_cluster_log, pca)"
   ]
  },
  {
   "cell_type": "code",
   "execution_count": null,
   "metadata": {
    "pycharm": {
     "name": "#%%\n"
    }
   },
   "outputs": [],
   "source": []
  },
  {
   "cell_type": "code",
   "execution_count": null,
   "metadata": {
    "pycharm": {
     "name": "#%%\n"
    }
   },
   "outputs": [],
   "source": []
  },
  {
   "cell_type": "code",
   "execution_count": null,
   "metadata": {
    "pycharm": {
     "name": "#%%\n"
    }
   },
   "outputs": [],
   "source": []
  },
  {
   "cell_type": "code",
   "execution_count": null,
   "metadata": {
    "pycharm": {
     "name": "#%%\n"
    }
   },
   "outputs": [],
   "source": [
    "orders_df[orders_df[\"order_origin\"] == \"STORE\"]"
   ]
  },
  {
   "cell_type": "code",
   "execution_count": null,
   "metadata": {
    "pycharm": {
     "name": "#%%\n"
    }
   },
   "outputs": [],
   "source": [
    "orders_df[orders_df[\"subsidy_amount\"] < 0].value_counts([\"order_origin\"])"
   ]
  },
  {
   "cell_type": "code",
   "execution_count": null,
   "metadata": {
    "pycharm": {
     "name": "#%%\n"
    }
   },
   "outputs": [],
   "source": [
    "orders_df.value_counts([\"order_origin\"])"
   ]
  },
  {
   "cell_type": "code",
   "execution_count": null,
   "metadata": {
    "pycharm": {
     "name": "#%%\n"
    }
   },
   "outputs": [],
   "source": [
    "orders_df[orders_df[\"subsidy_amount\"] < 0].shape"
   ]
  },
  {
   "cell_type": "code",
   "execution_count": null,
   "metadata": {
    "pycharm": {
     "name": "#%%\n"
    }
   },
   "outputs": [],
   "source": [
    "# lets imput the median on this less than 0 observations\n",
    "orders_rfm_df.loc[orders_rfm_df[\"subsidy_amount\"] < 0, \"subsidy_amount\"] = None\n",
    "orders_rfm_df"
   ]
  },
  {
   "cell_type": "code",
   "execution_count": null,
   "metadata": {
    "pycharm": {
     "name": "#%%\n"
    }
   },
   "outputs": [],
   "source": [
    "orders_rfm_df.isnull().sum()"
   ]
  },
  {
   "cell_type": "code",
   "execution_count": null,
   "metadata": {
    "pycharm": {
     "name": "#%%\n"
    }
   },
   "outputs": [],
   "source": [
    "# as we already saw, the subsidy_amount needs to be positive\n",
    "# and also, we saw that there's just one single order with a very high value."
   ]
  }
 ],
 "metadata": {
  "kernelspec": {
   "display_name": "Python 3",
   "language": "python",
   "name": "python3"
  },
  "language_info": {
   "codemirror_mode": {
    "name": "ipython",
    "version": 2
   },
   "file_extension": ".py",
   "mimetype": "text/x-python",
   "name": "python",
   "nbconvert_exporter": "python",
   "pygments_lexer": "ipython2",
   "version": "2.7.6"
  }
 },
 "nbformat": 4,
 "nbformat_minor": 0
}
