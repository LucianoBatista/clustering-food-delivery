{
 "cells": [
  {
   "cell_type": "code",
   "execution_count": null,
   "metadata": {},
   "outputs": [],
   "source": [
    "import matplotlib as mpl\n",
    "import matplotlib.pyplot as plt\n",
    "import numpy as np\n",
    "import pandas as pd\n",
    "import seaborn as sns\n",
    "\n",
    "# graph config\n",
    "sns.set()\n",
    "mpl.rcParams[\"figure.figsize\"] = (16, 8)\n",
    "plt.style.use(\"ggplot\")"
   ]
  },
  {
   "cell_type": "code",
   "execution_count": null,
   "metadata": {
    "pycharm": {
     "name": "#%%\n"
    }
   },
   "outputs": [],
   "source": [
    "orders_df = pd.read_csv(\"../data/orders.csv\", sep=\";\")\n",
    "orders_dtypes = pd.read_csv(\"../data/orders-dtype.csv\")\n",
    "orders_dtypes.set_index([\"features\"], inplace=True)\n",
    "dtypes_to_read = orders_dtypes.to_dict()[\"dtypes\"]\n",
    "marketing_df = pd.read_csv(\"../data/marketing.csv\", sep=\";\")\n",
    "session_df = pd.read_csv(\"../data/sessions.csv\", sep=\";\")\n",
    "\n",
    "# dtypes orders fixed\n",
    "orders_df = orders_df.astype(dtypes_to_read)\n",
    "\n",
    "# dtypes marketing fixed\n",
    "dtypes_marketing = {\n",
    "    \"account_id\": \"category\",\n",
    "    \"registration_date\": \"datetime64[ns, UTC]\",\n",
    "    \"first_order_date\": \"datetime64[ns, UTC]\",\n",
    "    \"ifood_status\": \"category\",\n",
    "    \"ifood_status_last_month\": \"category\",\n",
    "    \"total_order_count\": \"int64\",\n",
    "}\n",
    "marketing_df = marketing_df.astype(dtypes_marketing)\n",
    "\n",
    "# dtypes sessions\n",
    "session_dtypes = {\n",
    "    \"session_id\": \"category\",\n",
    "    \"user_account_uuid\": \"category\",\n",
    "    \"session_started\": \"category\",\n",
    "    \"session_ended\": \"datetime64[ns, UTC]\",\n",
    "    \"install_timestamp\": \"datetime64[ns, UTC]\",\n",
    "    \"sum_view_restaurant_screen\": \"int64\",\n",
    "    \"sum_view_dish_screen\": \"int64\",\n",
    "    \"sum_click_add_item\": \"int64\",\n",
    "    \"sum_view_checkout\": \"int64\",\n",
    "    \"sum_callback_purchase\": \"int64\",\n",
    "    \"first_order_has_voucher\": \"boolean\",\n",
    "    \"media_campaign\": \"category\",\n",
    "    \"load_time\": \"float64\",\n",
    "    \"available_restaurants\": \"float64\",\n",
    "    \"rownumber\": \"int64\",\n",
    "}\n",
    "\n",
    "session_df = session_df.astype(session_dtypes)"
   ]
  },
  {
   "cell_type": "markdown",
   "metadata": {
    "collapsed": false,
    "pycharm": {
     "name": "#%% md\n"
    }
   },
   "source": [
    "# Orders"
   ]
  },
  {
   "cell_type": "code",
   "execution_count": null,
   "metadata": {
    "pycharm": {
     "name": "#%%\n"
    }
   },
   "outputs": [],
   "source": [
    "orders_df.describe(\n",
    "    percentiles=[0.1, 0.25, 0.5, 0.75, 0.9, 0.99],\n",
    "    exclude=[\"boolean\", \"category\"],\n",
    "    datetime_is_numeric=True,\n",
    ").T"
   ]
  },
  {
   "cell_type": "markdown",
   "metadata": {
    "collapsed": false,
    "pycharm": {
     "name": "#%% md\n"
    }
   },
   "source": [
    "- delivery_fee: have negative values and some extreme values (5000 for a delivery fee is insane)\n",
    "- total_amount: have some extreme values, but this variable is in monetary unit (UM). How to converto to real or dollar?\n",
    "- subsidy_amount: does subisidy right? is this variable needed to came in negative values? Or the total value of the order be tootal_amount - subsidy_amount?\n",
    "    - the max value on this variable is also too high and inside of 1% of the population.\n",
    "- longitude and latitude seems ok, also zipcode\n",
    "- The data area from 9 to 10 months on the 2020 year: Jan to Set or Out.\n",
    "- lag_last_order: some client took 1429 days to order somenthing on ifood, but in average they took from 2 to 3 days\n",
    "- review in average of 4.66 and nps of 9.11.\n",
    "\n",
    "From this variables, seems that we need to take a closer look on `delivery_fee`, `total_amount` and `subsidy_amount`, to understand this incosistences\n",
    "\n"
   ]
  },
  {
   "cell_type": "code",
   "execution_count": null,
   "metadata": {
    "pycharm": {
     "name": "#%%\n"
    }
   },
   "outputs": [],
   "source": [
    "orders_numeric_types_df = orders_df.select_dtypes(exclude=[\"category\", \"boolean\"])\n",
    "columns = orders_numeric_types_df.columns\n",
    "\n",
    "for column in columns:\n",
    "    _ = sns.histplot(orders_numeric_types_df, x=column)\n",
    "    plt.show()"
   ]
  },
  {
   "cell_type": "code",
   "execution_count": null,
   "metadata": {
    "pycharm": {
     "name": "#%%\n"
    }
   },
   "outputs": [],
   "source": [
    "_ = sns.ecdfplot(data=orders_numeric_types_df, x=\"lag_last_order\")\n",
    "plt.show()"
   ]
  },
  {
   "cell_type": "code",
   "execution_count": null,
   "metadata": {
    "pycharm": {
     "name": "#%%\n"
    }
   },
   "outputs": [],
   "source": [
    "orders_numeric_types_df[\"lag_last_order\"].value_counts()"
   ]
  },
  {
   "cell_type": "code",
   "execution_count": null,
   "metadata": {
    "pycharm": {
     "name": "#%%\n"
    }
   },
   "outputs": [],
   "source": [
    "orders_numeric_types_df[\"delivery_fee\"].value_counts()"
   ]
  },
  {
   "cell_type": "code",
   "execution_count": null,
   "metadata": {
    "pycharm": {
     "name": "#%%\n"
    }
   },
   "outputs": [],
   "source": [
    "orders_df[[\"state_label\"]].value_counts()"
   ]
  },
  {
   "cell_type": "code",
   "execution_count": null,
   "metadata": {
    "pycharm": {
     "name": "#%%\n"
    }
   },
   "outputs": [],
   "source": [
    "pd.crosstab(orders_df[\"total_amount\"], orders_df[\"state_label\"])"
   ]
  },
  {
   "cell_type": "code",
   "execution_count": null,
   "metadata": {
    "pycharm": {
     "name": "#%%\n"
    }
   },
   "outputs": [],
   "source": [
    "orders_df.groupby([\"state_label\", \"district\"])[\"total_amount\"].agg(\n",
    "    np.mean\n",
    ").reset_index()"
   ]
  },
  {
   "cell_type": "code",
   "execution_count": null,
   "metadata": {
    "pycharm": {
     "name": "#%%\n"
    }
   },
   "outputs": [],
   "source": [
    "orders_df.describe(include=[\"category\", \"boolean\"]).T"
   ]
  },
  {
   "cell_type": "code",
   "execution_count": null,
   "metadata": {
    "pycharm": {
     "name": "#%%\n"
    }
   },
   "outputs": [],
   "source": []
  },
  {
   "cell_type": "code",
   "execution_count": null,
   "metadata": {
    "pycharm": {
     "name": "#%%\n"
    }
   },
   "outputs": [],
   "source": [
    "orders_df.value_counts([\"account_id\"]).reset_index()"
   ]
  },
  {
   "cell_type": "code",
   "execution_count": null,
   "metadata": {
    "pycharm": {
     "name": "#%%\n"
    }
   },
   "outputs": [],
   "source": [
    "marketing_df[marketing_df[\"account_id\"] == \"d300ac6b-3fd5-4f24-b80e-a2a0066f925c\"]"
   ]
  },
  {
   "cell_type": "markdown",
   "metadata": {
    "collapsed": false,
    "pycharm": {
     "name": "#%% md\n"
    }
   },
   "source": [
    "One order may have different numbers of items?"
   ]
  },
  {
   "cell_type": "code",
   "execution_count": null,
   "metadata": {
    "pycharm": {
     "name": "#%%\n"
    }
   },
   "outputs": [],
   "source": []
  },
  {
   "cell_type": "code",
   "execution_count": null,
   "metadata": {
    "pycharm": {
     "name": "#%%\n"
    }
   },
   "outputs": [],
   "source": [
    "orders_df[[\"account_id\", \"lag_last_order\"]].sort_values([\"account_id\"])"
   ]
  },
  {
   "cell_type": "code",
   "execution_count": null,
   "metadata": {
    "pycharm": {
     "name": "#%%\n"
    }
   },
   "outputs": [],
   "source": [
    "orders_df.loc[orders_df[\"centroid_id\"] == \"-23.6-46.73\", [\"state_label\", \"district\"]]"
   ]
  },
  {
   "cell_type": "code",
   "execution_count": null,
   "metadata": {
    "pycharm": {
     "name": "#%%\n"
    }
   },
   "outputs": [],
   "source": []
  },
  {
   "cell_type": "code",
   "execution_count": null,
   "metadata": {
    "pycharm": {
     "name": "#%%\n"
    }
   },
   "outputs": [],
   "source": [
    "orders_df.info()"
   ]
  },
  {
   "cell_type": "code",
   "execution_count": null,
   "metadata": {
    "pycharm": {
     "name": "#%%\n"
    }
   },
   "outputs": [],
   "source": [
    "orders_df[\"account_id\"].cat.categories"
   ]
  },
  {
   "cell_type": "code",
   "execution_count": null,
   "metadata": {
    "pycharm": {
     "name": "#%%\n"
    }
   },
   "outputs": [],
   "source": [
    "orders_df.shape"
   ]
  },
  {
   "cell_type": "code",
   "execution_count": null,
   "metadata": {
    "pycharm": {
     "name": "#%%\n"
    }
   },
   "outputs": [],
   "source": []
  },
  {
   "cell_type": "code",
   "execution_count": null,
   "metadata": {
    "pycharm": {
     "name": "#%%\n"
    }
   },
   "outputs": [],
   "source": []
  },
  {
   "cell_type": "code",
   "execution_count": null,
   "metadata": {
    "pycharm": {
     "name": "#%%\n"
    }
   },
   "outputs": [],
   "source": []
  },
  {
   "cell_type": "code",
   "execution_count": null,
   "metadata": {
    "pycharm": {
     "name": "#%%\n"
    }
   },
   "outputs": [],
   "source": []
  },
  {
   "cell_type": "markdown",
   "metadata": {
    "collapsed": false,
    "pycharm": {
     "name": "#%% md\n"
    }
   },
   "source": [
    "- delivery_fee: have negative values and some extreme values (5000 for a delivery fee is insane)\n",
    "- total_amount: have some extreme values, but this variable is in monetary unit (UM). How to converto to real or dollar?\n",
    "- subsidy_amount: does subisidy right? is this variable needed to came in negative values? Or the total value of the order be tootal_amount - subsidy_amount?\n",
    "- longitude and latitude seems ok, also zipcode\n",
    "- lag_last_order: some client took 1429 days to order somenthing on ifood, but in average they took from 2 to 3 days\n",
    "- review in average of 4.66 and nps of 9.11.\n",
    "\n",
    "From this variables, seems that we need to take a closer look on `delivery_fee`, `total_amount` and `subsidy_amount`, to understand this incosistences\n",
    "\n"
   ]
  },
  {
   "cell_type": "code",
   "execution_count": null,
   "metadata": {
    "pycharm": {
     "name": "#%%\n"
    }
   },
   "outputs": [],
   "source": []
  },
  {
   "cell_type": "code",
   "execution_count": null,
   "metadata": {
    "pycharm": {
     "name": "#%%\n"
    }
   },
   "outputs": [],
   "source": []
  },
  {
   "cell_type": "code",
   "execution_count": null,
   "metadata": {
    "pycharm": {
     "name": "#%%\n"
    }
   },
   "outputs": [],
   "source": []
  }
 ],
 "metadata": {
  "kernelspec": {
   "display_name": "Python 3",
   "language": "python",
   "name": "python3"
  },
  "language_info": {
   "codemirror_mode": {
    "name": "ipython",
    "version": 2
   },
   "file_extension": ".py",
   "mimetype": "text/x-python",
   "name": "python",
   "nbconvert_exporter": "python",
   "pygments_lexer": "ipython2",
   "version": "2.7.6"
  }
 },
 "nbformat": 4,
 "nbformat_minor": 0
}
