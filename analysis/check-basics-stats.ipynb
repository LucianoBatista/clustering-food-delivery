{
 "cells": [
  {
   "cell_type": "code",
   "execution_count": null,
   "metadata": {},
   "outputs": [],
   "source": [
    "import pandas as pd"
   ]
  },
  {
   "cell_type": "code",
   "execution_count": null,
   "metadata": {
    "pycharm": {
     "name": "#%%\n"
    }
   },
   "outputs": [],
   "source": [
    "orders_df = pd.read_csv(\"../data/orders.csv\", sep=\";\")\n",
    "orders_dtypes = pd.read_csv(\"../data/orders-dtype.csv\")\n",
    "orders_dtypes.set_index([\"features\"], inplace=True)\n",
    "dtypes_to_read = orders_dtypes.to_dict()[\"dtypes\"]\n",
    "marketing_df = pd.read_csv(\"../data/marketing.csv\", sep=\";\")\n",
    "session_df = pd.read_csv(\"../data/sessions.csv\", sep=\";\")\n",
    "\n",
    "# dtypes orders fixed\n",
    "orders_df = orders_df.astype(dtypes_to_read)\n",
    "\n",
    "# dtypes marketing fixed\n",
    "dtypes_marketing = {\n",
    "    \"account_id\": \"category\",\n",
    "    \"registration_date\": \"datetime64[ns, UTC]\",\n",
    "    \"first_order_date\": \"datetime64[ns, UTC]\",\n",
    "    \"ifood_status\": \"category\",\n",
    "    \"ifood_status_last_month\": \"category\",\n",
    "    \"total_order_count\": \"int64\",\n",
    "}\n",
    "marketing_df = marketing_df.astype(dtypes_marketing)\n",
    "\n",
    "# dtypes sessions\n",
    "session_dtypes = {\n",
    "    \"session_id\": \"category\",\n",
    "    \"user_account_uuid\": \"category\",\n",
    "    \"session_started\": \"category\",\n",
    "    \"session_ended\": \"datetime64[ns, UTC]\",\n",
    "    \"install_timestamp\": \"datetime64[ns, UTC]\",\n",
    "    \"sum_view_restaurant_screen\": \"int64\",\n",
    "    \"sum_view_dish_screen\": \"int64\",\n",
    "    \"sum_click_add_item\": \"int64\",\n",
    "    \"sum_view_checkout\": \"int64\",\n",
    "    \"sum_callback_purchase\": \"int64\",\n",
    "    \"first_order_has_voucher\": \"boolean\",\n",
    "    \"media_campaign\": \"category\",\n",
    "    \"load_time\": \"float64\",\n",
    "    \"available_restaurants\": \"float64\",\n",
    "    \"rownumber\": \"int64\",\n",
    "}\n",
    "\n",
    "session_df = session_df.astype(session_dtypes)"
   ]
  },
  {
   "cell_type": "markdown",
   "metadata": {
    "collapsed": false,
    "pycharm": {
     "name": "#%% md\n"
    }
   },
   "source": [
    "- delivery_fee: have negative values and some extreme values (5000 for a delivery fee is insane)\n",
    "- total_amount: have some extreme values, but this variable is in monetary unit (UM). How to converto to real or dollar?\n",
    "- subsidy_amount: does subisidy right? is this variable needed to came in negative values? Or the total value of the order be tootal_amount - subsidy_amount?\n",
    "- longitude and latitude seems ok, also zipcode\n",
    "- lag_last_order: some client took 1429 days to order somenthing on ifood, but in average they took from 2 to 3 days\n",
    "- review in average of 4.66 and nps of 9.11.\n",
    "\n",
    "From this variables, seems that we need to take a closer look on `delivery_fee`, `total_amount` and `subsidy_amount`, to understand this incosistences\n",
    "\n"
   ]
  },
  {
   "cell_type": "code",
   "execution_count": null,
   "metadata": {
    "pycharm": {
     "name": "#%%\n"
    }
   },
   "outputs": [],
   "source": []
  },
  {
   "cell_type": "code",
   "execution_count": null,
   "metadata": {
    "pycharm": {
     "name": "#%%\n"
    }
   },
   "outputs": [],
   "source": []
  },
  {
   "cell_type": "code",
   "execution_count": null,
   "metadata": {
    "pycharm": {
     "name": "#%%\n"
    }
   },
   "outputs": [],
   "source": []
  }
 ],
 "metadata": {
  "kernelspec": {
   "display_name": "Python 3",
   "language": "python",
   "name": "python3"
  },
  "language_info": {
   "codemirror_mode": {
    "name": "ipython",
    "version": 2
   },
   "file_extension": ".py",
   "mimetype": "text/x-python",
   "name": "python",
   "nbconvert_exporter": "python",
   "pygments_lexer": "ipython2",
   "version": "2.7.6"
  }
 },
 "nbformat": 4,
 "nbformat_minor": 0
}
