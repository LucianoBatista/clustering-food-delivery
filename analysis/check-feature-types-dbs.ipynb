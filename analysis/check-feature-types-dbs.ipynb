{
 "cells": [
  {
   "cell_type": "code",
   "execution_count": null,
   "metadata": {
    "pycharm": {
     "name": "#%%\n"
    }
   },
   "outputs": [],
   "source": [
    "import pandas as pd"
   ]
  },
  {
   "cell_type": "code",
   "execution_count": null,
   "metadata": {
    "pycharm": {
     "name": "#%%\n"
    }
   },
   "outputs": [],
   "source": [
    "orders_df = pd.read_csv(\n",
    "    \"../data/orders.csv\", sep=\";\", parse_dates=[\"confirmed_date\", \"concluded_date\"]\n",
    ")\n",
    "marketing_df = pd.read_csv(\"../data/marketing.csv\", sep=\";\")\n",
    "sessions_df = pd.read_csv(\"../data/sessions.csv\", sep=\";\")"
   ]
  },
  {
   "cell_type": "markdown",
   "metadata": {
    "collapsed": false,
    "pycharm": {
     "name": "#%% md\n"
    }
   },
   "source": [
    "# Orders - Data Types"
   ]
  },
  {
   "cell_type": "code",
   "execution_count": null,
   "metadata": {
    "pycharm": {
     "name": "#%%\n"
    }
   },
   "outputs": [],
   "source": [
    "orders_df.head(10)"
   ]
  },
  {
   "cell_type": "code",
   "execution_count": null,
   "metadata": {
    "pycharm": {
     "name": "#%%\n"
    }
   },
   "outputs": [],
   "source": [
    "orders_df.info()"
   ]
  },
  {
   "cell_type": "markdown",
   "metadata": {
    "collapsed": false,
    "pycharm": {
     "name": "#%% md\n"
    }
   },
   "source": [
    "# Which type of variables do we have in orders dataframe?\n",
    "\n",
    "## Datetime\n",
    "\n",
    "- confirmed_date\n",
    "- concluded_date\n",
    "\n",
    "\n",
    "## Boolean\n",
    "\n",
    "- has_free_delivery\n",
    "- scheduled\n",
    "\n",
    "\n",
    "## Float\n",
    "\n",
    "- delivery_fee\n",
    "- total_amount\n",
    "- subsidy_amount\n",
    "- customer_long\n",
    "- customer_lat\n",
    "- merchant_long\n",
    "- merchant_lat\n",
    "- lag_last_order\n",
    "- review_score\n",
    "\n",
    "\n",
    "## Int\n",
    "\n",
    "- nps_score\n",
    "- merchant_zipcode\n",
    "\n",
    "\n",
    "## Object\n",
    "\n",
    "- order_id\n",
    "- order_shift\n",
    "- order_origin\n",
    "- device_platform\n",
    "- device_type\n",
    "- device_app_version\n",
    "- centroid_id (id da centroide dos clientes)\n",
    "- state_label (UF do cliente)\n",
    "- city (cidade do cliente)\n",
    "- district (bairro do cliente)\n",
    "- restaurant_id (id do restaurante)\n",
    "- dish_type (tipo de cozinha)\n",
    "- group_id (se o restaurante ta em algum grupo, id do grupo)\n",
    "- merchant_centroid_id\n",
    "- merchant_state\n",
    "- merchant_city\n",
    "- merchant_district\n",
    "- account_id\n",
    "- review_created_at"
   ]
  },
  {
   "cell_type": "code",
   "execution_count": null,
   "metadata": {
    "pycharm": {
     "name": "#%%\n"
    }
   },
   "outputs": [],
   "source": [
    "# variables type adjustment\n",
    "orders_category_df = orders_df.select_dtypes(include=\"object\").astype(\"category\")\n",
    "orders_category_df[[\"merchant_zipcode\", \"nps_score\"]] = orders_df.select_dtypes(\n",
    "    include=\"int\"\n",
    ").astype(\"category\")\n",
    "orders_float_df = orders_df.select_dtypes(include=\"float\")\n",
    "orders_date_df = orders_df[[\"confirmed_date\", \"concluded_date\"]]\n",
    "orders_bool_df = orders_df[[\"scheduled\", \"has_free_delivery\"]].astype(\"boolean\")\n",
    "\n",
    "orders_treated_df = pd.concat(\n",
    "    [orders_category_df, orders_float_df, orders_bool_df, orders_date_df],\n",
    "    ignore_index=True,\n",
    ")"
   ]
  },
  {
   "cell_type": "code",
   "execution_count": null,
   "metadata": {
    "pycharm": {
     "name": "#%%\n"
    }
   },
   "outputs": [],
   "source": [
    "orders_treated_df.info()"
   ]
  },
  {
   "cell_type": "code",
   "execution_count": null,
   "metadata": {
    "pycharm": {
     "name": "#%%\n"
    }
   },
   "outputs": [],
   "source": [
    "# saving dtypes as csv to make possible to others notebooks to use the correct types\n",
    "dtypes_df = orders_treated_df.dtypes.to_frame().reset_index()\n",
    "dtypes_df.columns = [\"features\", \"dtypes\"]\n",
    "dtypes_df.to_csv(\"../data/orders-dtype.csv\", index=False)"
   ]
  },
  {
   "cell_type": "markdown",
   "metadata": {
    "collapsed": false,
    "pycharm": {
     "name": "#%% md\n"
    }
   },
   "source": [
    "## Marketing - Data Types\n",
    "\n",
    "To all others datasets we'll manually choose the correct data types"
   ]
  },
  {
   "cell_type": "code",
   "execution_count": null,
   "metadata": {
    "pycharm": {
     "name": "#%%\n"
    }
   },
   "outputs": [],
   "source": [
    "marketing_df.info()"
   ]
  },
  {
   "cell_type": "code",
   "execution_count": null,
   "metadata": {
    "pycharm": {
     "name": "#%%\n"
    }
   },
   "outputs": [],
   "source": [
    "dtypes_marketing = {\n",
    "    \"account_id\": \"category\",\n",
    "    \"registration_date\": \"datetime64[ns, UTC]\",\n",
    "    \"first_order_date\": \"datetime64[ns, UTC]\",\n",
    "    \"ifood_status\": \"category\",\n",
    "    \"ifood_status_last_month\": \"category\",\n",
    "    \"total_order_count\": \"int64\",\n",
    "}\n",
    "\n",
    "marketing_df.astype(dtypes_marketing).info()"
   ]
  },
  {
   "cell_type": "markdown",
   "metadata": {
    "collapsed": false,
    "pycharm": {
     "name": "#%% md\n"
    }
   },
   "source": [
    "## Session - Data Types"
   ]
  },
  {
   "cell_type": "code",
   "execution_count": null,
   "metadata": {
    "pycharm": {
     "name": "#%%\n"
    }
   },
   "outputs": [],
   "source": [
    "sessions_df.dtypes.to_frame().to_dict()[0]"
   ]
  },
  {
   "cell_type": "code",
   "execution_count": null,
   "metadata": {
    "pycharm": {
     "name": "#%%\n"
    }
   },
   "outputs": [],
   "source": [
    "session_dtypes = {\n",
    "    \"session_id\": \"category\",\n",
    "    \"user_account_uuid\": \"category\",\n",
    "    \"session_started\": \"category\",\n",
    "    \"session_ended\": \"datetime64[ns, UTC]\",\n",
    "    \"install_timestamp\": \"datetime64[ns, UTC]\",\n",
    "    \"sum_view_restaurant_screen\": \"int64\",\n",
    "    \"sum_view_dish_screen\": \"int64\",\n",
    "    \"sum_click_add_item\": \"int64\",\n",
    "    \"sum_view_checkout\": \"int64\",\n",
    "    \"sum_callback_purchase\": \"int64\",\n",
    "    \"first_order_has_voucher\": \"boolean\",\n",
    "    \"media_campaign\": \"category\",\n",
    "    \"load_time\": \"float64\",\n",
    "    \"available_restaurants\": \"float64\",\n",
    "    \"rownumber\": \"int64\",\n",
    "}"
   ]
  },
  {
   "cell_type": "code",
   "execution_count": null,
   "metadata": {
    "pycharm": {
     "name": "#%%\n"
    }
   },
   "outputs": [],
   "source": [
    "sessions_df = sessions_df.astype(session_dtypes)"
   ]
  },
  {
   "cell_type": "code",
   "execution_count": null,
   "metadata": {
    "pycharm": {
     "name": "#%%\n"
    }
   },
   "outputs": [],
   "source": [
    "sessions_df.info()"
   ]
  },
  {
   "cell_type": "code",
   "execution_count": null,
   "metadata": {
    "pycharm": {
     "name": "#%%\n"
    }
   },
   "outputs": [],
   "source": []
  },
  {
   "cell_type": "markdown",
   "metadata": {
    "collapsed": false,
    "pycharm": {
     "name": "#%% md\n"
    }
   },
   "source": [
    "- delivery_fee: have negative values and some extreme values (5000 for a delivery fee is insane)\n",
    "- total_amount: have some extreme values, but this variable is in monetary unit (UM). How to converto to real or dollar?\n",
    "- subsidy_amount: does subisidy right? is this variable needed to came in negative values? Or the total value of the order be tootal_amount - subsidy_amount?\n",
    "- longitude and latitude seems ok, also zipcode\n",
    "- lag_last_order: some client took 1429 days to order somenthing on ifood, but in average they took from 2 to 3 days\n",
    "- review in average of 4.66 and nps of 9.11.\n",
    "\n",
    "From this variables, seems that we need to take a closer look on `delivery_fee`, `total_amount` and `subsidy_amount`, to understand this incosistences"
   ]
  },
  {
   "cell_type": "code",
   "execution_count": null,
   "metadata": {
    "pycharm": {
     "name": "#%%\n"
    }
   },
   "outputs": [],
   "source": []
  }
 ],
 "metadata": {
  "kernelspec": {
   "display_name": "Python 3",
   "language": "python",
   "name": "python3"
  },
  "language_info": {
   "codemirror_mode": {
    "name": "ipython",
    "version": 2
   },
   "file_extension": ".py",
   "mimetype": "text/x-python",
   "name": "python",
   "nbconvert_exporter": "python",
   "pygments_lexer": "ipython2",
   "version": "2.7.6"
  }
 },
 "nbformat": 4,
 "nbformat_minor": 0
}
